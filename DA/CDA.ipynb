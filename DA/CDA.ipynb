{
 "cells": [
  {
   "cell_type": "code",
   "execution_count": 1,
   "id": "da172241-e604-45a0-9f2b-a1c74fc15768",
   "metadata": {},
   "outputs": [],
   "source": [
    "import pandas as pd\n",
    "import seaborn as sns\n",
    "import matplotlib as plt\n",
    "import numpy as np\n",
    "import scipy\n",
    "import scipy.stats as stats"
   ]
  },
  {
   "cell_type": "code",
   "execution_count": 2,
   "id": "fa087cb5-9c26-43e8-b49e-83ee2f11eb1b",
   "metadata": {},
   "outputs": [],
   "source": [
    "### 한글 폰트 설치 - 윈도우 사용할 때\n",
    "import matplotlib.pyplot as plt\n",
    "from matplotlib import font_manager, rc\n",
    "import platform\n",
    "\n",
    "path = 'c:/Windows/Fonts/malgun.ttf'  # 또는 나눔고딕: 'c:/Windows/Fonts/NanumGothic.ttf'\n",
    "font_name = font_manager.FontProperties(fname=path).get_name()\n",
    "rc('font', family=font_name)"
   ]
  },
  {
   "cell_type": "code",
   "execution_count": 3,
   "id": "d0775cf8-3df2-4f1f-90b6-6002ed5f51be",
   "metadata": {},
   "outputs": [],
   "source": [
    "# 경고창 무시\n",
    "import warnings\n",
    "warnings.filterwarnings('ignore')"
   ]
  },
  {
   "cell_type": "code",
   "execution_count": 4,
   "id": "b6b3f7d1-da39-4898-9417-540dce524901",
   "metadata": {},
   "outputs": [],
   "source": [
    "df_sample = pd.read_csv(\"../datasets/sample_submission.csv\")\n",
    "df_train = pd.read_csv(\"../datasets/train.csv\")\n",
    "df_test = pd.read_csv(\"../datasets/test.csv\")"
   ]
  },
  {
   "cell_type": "code",
   "execution_count": 5,
   "id": "3f63b2c2-1e77-4ceb-8316-aa9e3acd7863",
   "metadata": {},
   "outputs": [
    {
     "name": "stdout",
     "output_type": "stream",
     "text": [
      "<class 'pandas.core.frame.DataFrame'>\n",
      "RangeIndex: 2452 entries, 0 to 2451\n",
      "Data columns (total 17 columns):\n",
      " #   Column  Non-Null Count  Dtype  \n",
      "---  ------  --------------  -----  \n",
      " 0   ID      2452 non-null   object \n",
      " 1   매물확인방식  2452 non-null   object \n",
      " 2   보증금     2452 non-null   float64\n",
      " 3   월세      2452 non-null   int64  \n",
      " 4   전용면적    1665 non-null   float64\n",
      " 5   해당층     2223 non-null   float64\n",
      " 6   총층      2436 non-null   float64\n",
      " 7   방향      2452 non-null   object \n",
      " 8   방수      2436 non-null   float64\n",
      " 9   욕실수     2434 non-null   float64\n",
      " 10  주차가능여부  2452 non-null   object \n",
      " 11  총주차대수   1756 non-null   float64\n",
      " 12  관리비     2452 non-null   int64  \n",
      " 13  중개사무소   2452 non-null   object \n",
      " 14  제공플랫폼   2452 non-null   object \n",
      " 15  게재일     2452 non-null   object \n",
      " 16  허위매물여부  2452 non-null   int64  \n",
      "dtypes: float64(7), int64(3), object(7)\n",
      "memory usage: 325.8+ KB\n"
     ]
    }
   ],
   "source": [
    "df_train.info()"
   ]
  },
  {
   "cell_type": "markdown",
   "id": "ea193c27-c570-4197-b158-78d822eaae73",
   "metadata": {},
   "source": [
    "## 가설 검증 - 각 컬럼과 허위매물여부에 대한 다변수 검증 실시\n",
    "\n",
    "- #### p_value < alpha : 귀무가설 기각\n",
    "- #### p_value > alpha : 귀무가설 채택"
   ]
  },
  {
   "cell_type": "markdown",
   "id": "fe58e229-63e7-4902-a7ea-9421470d6642",
   "metadata": {},
   "source": [
    "### 1. 범주형(매물확인방식, 중개사무소, 제공플랫폼)"
   ]
  },
  {
   "cell_type": "code",
   "execution_count": 6,
   "id": "2e65f590-9938-474b-9f52-fee1cab4684e",
   "metadata": {},
   "outputs": [
    {
     "name": "stdout",
     "output_type": "stream",
     "text": [
      "카이제곱 통계량: 5.250952693371378\n",
      "p-값: 0.07240525881328504\n",
      "매물확인방식과 허위매물여부 간의 관계가 없습니다.\n"
     ]
    }
   ],
   "source": [
    "# 귀무가설 : 매물확인방식과 허위매물여부는 관련성이 없다.\n",
    "\n",
    "from scipy.stats import chi2_contingency\n",
    "\n",
    "contingency_table = pd.crosstab(df_train['매물확인방식'], df_train['허위매물여부'])\n",
    "\n",
    "chi2, p, dof, expected = chi2_contingency(contingency_table)\n",
    "\n",
    "# 결과 출력\n",
    "print(\"카이제곱 통계량:\", chi2)\n",
    "print(\"p-값:\", p)\n",
    "# print(\"자유도:\", dof)\n",
    "# print(\"기대 빈도:\\n\", expected)\n",
    "\n",
    "# p-값 해석\n",
    "alpha = 0.05\n",
    "if p < alpha:\n",
    "    print(\"매물확인방식과 허위매물여부 간의 관계가 있습니다.\") \n",
    "else:\n",
    "    print(\"매물확인방식과 허위매물여부 간의 관계가 없습니다.\")"
   ]
  },
  {
   "cell_type": "code",
   "execution_count": 7,
   "id": "87a009a1-1d7e-4cb7-941a-92e2f92ab600",
   "metadata": {},
   "outputs": [
    {
     "name": "stdout",
     "output_type": "stream",
     "text": [
      "카이제곱 통계량: 524.4480695707881\n",
      "p-값: 2.3719684314814195e-17\n",
      "중개사무소와 허위매물여부 간의 관계가 있습니다.\n"
     ]
    }
   ],
   "source": [
    "# 귀무가설 : 중개사무소과 허위매물여부는 관련성이 없다.\n",
    "\n",
    "from scipy.stats import chi2_contingency\n",
    "\n",
    "contingency_table = pd.crosstab(df_train['중개사무소'], df_train['허위매물여부'])\n",
    "\n",
    "chi2, p, dof, expected = chi2_contingency(contingency_table)\n",
    "\n",
    "# 결과 출력\n",
    "print(\"카이제곱 통계량:\", chi2)\n",
    "print(\"p-값:\", p)\n",
    "# print(\"자유도:\", dof)\n",
    "# print(\"기대 빈도:\\n\", expected)\n",
    "\n",
    "# p-값 해석\n",
    "alpha = 0.05\n",
    "if p < alpha:\n",
    "    print(\"중개사무소와 허위매물여부 간의 관계가 있습니다.\") \n",
    "else:\n",
    "    print(\"중개사무소와 허위매물여부 간의 관계가 없습니다.\")"
   ]
  },
  {
   "cell_type": "code",
   "execution_count": 8,
   "id": "3d8fcf54-a1c5-42fc-a662-22800ac72f78",
   "metadata": {},
   "outputs": [
    {
     "name": "stdout",
     "output_type": "stream",
     "text": [
      "카이제곱 통계량: 19.920580943377207\n",
      "p-값: 0.06860329781525687\n",
      "제공플랫폼과 허위매물여부 간의 관계가 없습니다.\n"
     ]
    }
   ],
   "source": [
    "# 귀무가설 : 제공플랫폼과 허위매물여부는 관련성이 없다.\n",
    "\n",
    "from scipy.stats import chi2_contingency\n",
    "\n",
    "contingency_table = pd.crosstab(df_train['제공플랫폼'], df_train['허위매물여부'])\n",
    "\n",
    "chi2, p, dof, expected = chi2_contingency(contingency_table)\n",
    "\n",
    "# 결과 출력\n",
    "print(\"카이제곱 통계량:\", chi2)\n",
    "print(\"p-값:\", p)\n",
    "# print(\"자유도:\", dof)\n",
    "# print(\"기대 빈도:\\n\", expected)\n",
    "\n",
    "# p-값 해석\n",
    "alpha = 0.05\n",
    "if p < alpha:\n",
    "    print(\"제공플랫폼과 허위매물여부 간의 관계가 있습니다.\") \n",
    "else:\n",
    "    print(\"제공플랫폼과 허위매물여부 간의 관계가 없습니다.\")"
   ]
  },
  {
   "cell_type": "markdown",
   "id": "3008514e-1bee-41ef-a598-696dfd85dac6",
   "metadata": {},
   "source": [
    "### 2. 연속형(보증금, 월세, 관리비) \n",
    "- #### 정규성 확인 - shapiro(5000개 미만), Anderson Test(5000개 이상)\n",
    "    +  훈련데이터셋 2452개이므로 shapiro test 실시\n",
    "- #### 정규분포 : Levene 검증\n",
    "- #### 비정규분포 : 맨-휘트니 U(target 값 범주형 2집단), Krustal test(target 값 범주형 3집단)\n",
    "    + 연속형 컬럼 모두 비정규 분포\n",
    "    + 허위매물여부는 정상 or 허위 여부이므로 맨-휘트니 U 실시"
   ]
  },
  {
   "cell_type": "code",
   "execution_count": 9,
   "id": "5e8f5c14-f460-4ad0-887d-6fc5b9be1299",
   "metadata": {},
   "outputs": [
    {
     "name": "stdout",
     "output_type": "stream",
     "text": [
      "shapiro 검정 통계량: 0.8774800642287577\n",
      "p-값: 2.846647555613194e-40\n",
      "보증금 데이터는 정규분포를 따르지 않습니다.\n"
     ]
    }
   ],
   "source": [
    "from scipy.stats import shapiro\n",
    "\n",
    "stat, p_value = shapiro(df_train[\"보증금\"])\n",
    "\n",
    "# 결과 출력\n",
    "print(\"shapiro 검정 통계량:\", stat)\n",
    "print(\"p-값:\", p_value)\n",
    "\n",
    "# p-값 해석\n",
    "alpha = 0.05\n",
    "if p_value < alpha:\n",
    "    print(\"보증금 데이터는 정규분포를 따르지 않습니다.\")\n",
    "else:\n",
    "    print(\"보증금 데이터는 정규분포를 따릅니다.\")"
   ]
  },
  {
   "cell_type": "code",
   "execution_count": 10,
   "id": "f95a4368-945a-4077-a482-70b7a1f01a3d",
   "metadata": {},
   "outputs": [
    {
     "name": "stdout",
     "output_type": "stream",
     "text": [
      "shapiro 검정 통계량: 0.9612853865369135\n",
      "p-값: 4.318400296706643e-25\n",
      "월세 데이터는 정규분포를 따르지 않습니다.\n"
     ]
    }
   ],
   "source": [
    "from scipy.stats import shapiro\n",
    "\n",
    "stat, p_value = shapiro(df_train[\"월세\"])\n",
    "\n",
    "# 결과 출력\n",
    "print(\"shapiro 검정 통계량:\", stat)\n",
    "print(\"p-값:\", p_value)\n",
    "\n",
    "# p-값 해석\n",
    "alpha = 0.05\n",
    "if p_value < alpha:\n",
    "    print(\"월세 데이터는 정규분포를 따르지 않습니다.\")\n",
    "else:\n",
    "    print(\"월세 데이터는 정규분포를 따릅니다.\")"
   ]
  },
  {
   "cell_type": "code",
   "execution_count": 11,
   "id": "a7d50dec-1e00-42cd-9b9c-7813cb07efa6",
   "metadata": {},
   "outputs": [
    {
     "name": "stdout",
     "output_type": "stream",
     "text": [
      "shapiro 검정 통계량: 0.8280585968284627\n",
      "p-값: 1.8744142408454236e-45\n",
      "관리비 데이터는 정규분포를 따르지 않습니다.\n"
     ]
    }
   ],
   "source": [
    "from scipy.stats import shapiro\n",
    "\n",
    "stat, p_value = shapiro(df_train[\"관리비\"])\n",
    "\n",
    "# 결과 출력\n",
    "print(\"shapiro 검정 통계량:\", stat)\n",
    "print(\"p-값:\", p_value)\n",
    "\n",
    "# p-값 해석\n",
    "alpha = 0.05\n",
    "if p_value < alpha:\n",
    "    print(\"관리비 데이터는 정규분포를 따르지 않습니다.\")\n",
    "else:\n",
    "    print(\"관리비 데이터는 정규분포를 따릅니다.\")"
   ]
  },
  {
   "cell_type": "code",
   "execution_count": 15,
   "id": "7a7e6b5e-3739-4c15-b9c7-fdf9c07e9aa8",
   "metadata": {},
   "outputs": [
    {
     "name": "stdout",
     "output_type": "stream",
     "text": [
      "검정 통계량: 309766.0\n",
      "p-값: 0.32908056378533024\n",
      "귀무가설을 기각하지 않습니다. 보증금은 허위매물여부에 유의미하지 않는 데이터입니다.\n"
     ]
    }
   ],
   "source": [
    "from scipy.stats import mannwhitneyu\n",
    "\n",
    "# 허위매물 여부에 따른 그룹 나누기\n",
    "normal_group = df_train[df_train[\"허위매물여부\"] == 0][\"보증금\"]\n",
    "flaud_group = df_train[df_train[\"허위매물여부\"] == 1][\"보증금\"]\n",
    "\n",
    "# 맨-휘트니 U 검정 수행\n",
    "stat, p_value = mannwhitneyu(normal_group, flaud_group)\n",
    "\n",
    "# 결과 출력\n",
    "print(\"검정 통계량:\", stat)\n",
    "print(\"p-값:\", p_value)\n",
    "\n",
    "# p-값 해석\n",
    "alpha = 0.05\n",
    "if p_value < alpha:\n",
    "    print(\"귀무가설을 기각합니다. 보증금은 허위매물여부에 유의미한 데이터입니다.\")\n",
    "else:\n",
    "    print(\"귀무가설을 기각하지 않습니다. 보증금은 허위매물여부에 유의미하지 않는 데이터입니다.\")"
   ]
  },
  {
   "cell_type": "code",
   "execution_count": 16,
   "id": "6ebef795-1ce5-4ee7-b079-8e7e0b4a95c3",
   "metadata": {},
   "outputs": [
    {
     "name": "stdout",
     "output_type": "stream",
     "text": [
      "검정 통계량: 309182.0\n",
      "p-값: 0.3043918342277385\n",
      "귀무가설을 기각하지 않습니다. 월세는 허위매물여부에 유의미하지 않는 데이터입니다.\n"
     ]
    }
   ],
   "source": [
    "from scipy.stats import mannwhitneyu\n",
    "\n",
    "# 허위매물 여부에 따른 그룹 나누기\n",
    "normal_group = df_train[df_train[\"허위매물여부\"] == 0][\"월세\"]\n",
    "flaud_group = df_train[df_train[\"허위매물여부\"] == 1][\"월세\"]\n",
    "\n",
    "# 맨-휘트니 U 검정 수행\n",
    "stat, p_value = mannwhitneyu(normal_group, flaud_group)\n",
    "\n",
    "# 결과 출력\n",
    "print(\"검정 통계량:\", stat)\n",
    "print(\"p-값:\", p_value)\n",
    "\n",
    "# p-값 해석\n",
    "alpha = 0.05\n",
    "if p_value < alpha:\n",
    "    print(\"귀무가설을 기각합니다. 월세는 허위매물여부에 유의미한 데이터입니다.\")\n",
    "else:\n",
    "    print(\"귀무가설을 기각하지 않습니다. 월세는 허위매물여부에 유의미하지 않는 데이터입니다.\")"
   ]
  },
  {
   "cell_type": "code",
   "execution_count": 17,
   "id": "4e876b43-c249-4ed8-ba89-77ed390aa4e7",
   "metadata": {},
   "outputs": [
    {
     "name": "stdout",
     "output_type": "stream",
     "text": [
      "검정 통계량: 249408.5\n",
      "p-값: 2.220315004089524e-10\n",
      "귀무가설을 기각합니다. 관리비는 허위매물여부에 유의미한 데이터입니다.\n"
     ]
    }
   ],
   "source": [
    "from scipy.stats import mannwhitneyu\n",
    "\n",
    "# 허위매물 여부에 따른 그룹 나누기\n",
    "normal_group = df_train[df_train[\"허위매물여부\"] == 0][\"관리비\"]\n",
    "flaud_group = df_train[df_train[\"허위매물여부\"] == 1][\"관리비\"]\n",
    "\n",
    "# 맨-휘트니 U 검정 수행\n",
    "stat, p_value = mannwhitneyu(normal_group, flaud_group)\n",
    "\n",
    "# 결과 출력\n",
    "print(\"검정 통계량:\", stat)\n",
    "print(\"p-값:\", p_value)\n",
    "\n",
    "# p-값 해석\n",
    "alpha = 0.05\n",
    "if p_value < alpha:\n",
    "    print(\"귀무가설을 기각합니다. 관리비는 허위매물여부에 유의미한 데이터입니다.\")\n",
    "else:\n",
    "    print(\"귀무가설을 기각하지 않습니다. 관리비는 허위매물여부에 유의미하지 않는 데이터입니다.\")"
   ]
  },
  {
   "cell_type": "markdown",
   "id": "7b097b64-3120-4a73-88e8-3b23382256e1",
   "metadata": {},
   "source": [
    "- 유의미하다 ->  해당 연속형 컬럼에 대한 분포가 정상, 허위 둘다 다르다.\n",
    "- 유의미하지않다 ->  해당 연속형 컬럼에 대한 분포가 정상, 허위 둘다 비슷함"
   ]
  },
  {
   "cell_type": "markdown",
   "id": "de652d36-cc82-4e14-b0a6-456dd6cd9f8e",
   "metadata": {},
   "source": [
    "### 인사이트 결과\n",
    "1. 범주형과의 상관성 분석 결과\n",
    "    - 중개사무소와 허위매물여부와의 상관성이 있음. -> 유의미한 데이터\n",
    "    - 중개사무소에 따른 허위매물 판단을 할 수 있음.\n",
    "    - 플랫폼이나 매물방식에 대해서는 관련 x\n",
    "2. 연속형과의 상관성 분석 결과\n",
    "    - 연속형 컬럼들은 비정규분포를 따름.\n",
    "    - Mann Whitney U 방식 검증을 통해 상관성 도출\n",
    "    - 관리비는 정상 매물과 허위 매물 간 분포값을 다르게 보임. -> 유의미한 데이터\n",
    "    - 허위매물을 발생시키는 지표로 판단됨."
   ]
  }
 ],
 "metadata": {
  "kernelspec": {
   "display_name": "Python 3 (ipykernel)",
   "language": "python",
   "name": "python3"
  },
  "language_info": {
   "codemirror_mode": {
    "name": "ipython",
    "version": 3
   },
   "file_extension": ".py",
   "mimetype": "text/x-python",
   "name": "python",
   "nbconvert_exporter": "python",
   "pygments_lexer": "ipython3",
   "version": "3.11.6"
  }
 },
 "nbformat": 4,
 "nbformat_minor": 5
}
